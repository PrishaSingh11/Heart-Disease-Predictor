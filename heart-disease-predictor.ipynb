{
 "cells": [
  {
   "cell_type": "code",
   "execution_count": 1,
   "id": "7ac1c1a7",
   "metadata": {
    "execution": {
     "iopub.execute_input": "2025-02-06T19:29:23.808690Z",
     "iopub.status.busy": "2025-02-06T19:29:23.808179Z",
     "iopub.status.idle": "2025-02-06T19:29:26.497374Z",
     "shell.execute_reply": "2025-02-06T19:29:26.496293Z"
    },
    "id": "lTh8NT0uX01m",
    "papermill": {
     "duration": 2.696868,
     "end_time": "2025-02-06T19:29:26.499388",
     "exception": false,
     "start_time": "2025-02-06T19:29:23.802520",
     "status": "completed"
    },
    "tags": []
   },
   "outputs": [],
   "source": [
    "#importing modules\n",
    "import pandas as pd\n",
    "import numpy as np\n",
    "import seaborn as sns"
   ]
  },
  {
   "cell_type": "code",
   "execution_count": 2,
   "id": "6d4a09ca",
   "metadata": {
    "execution": {
     "iopub.execute_input": "2025-02-06T19:29:26.508298Z",
     "iopub.status.busy": "2025-02-06T19:29:26.507836Z",
     "iopub.status.idle": "2025-02-06T19:29:26.546676Z",
     "shell.execute_reply": "2025-02-06T19:29:26.545630Z"
    },
    "id": "xsrJL0g2X4PW",
    "outputId": "d7963ed0-2011-46dd-f18a-5bfdc2112f6f",
    "papermill": {
     "duration": 0.045043,
     "end_time": "2025-02-06T19:29:26.548516",
     "exception": false,
     "start_time": "2025-02-06T19:29:26.503473",
     "status": "completed"
    },
    "tags": []
   },
   "outputs": [
    {
     "data": {
      "text/html": [
       "<div>\n",
       "<style scoped>\n",
       "    .dataframe tbody tr th:only-of-type {\n",
       "        vertical-align: middle;\n",
       "    }\n",
       "\n",
       "    .dataframe tbody tr th {\n",
       "        vertical-align: top;\n",
       "    }\n",
       "\n",
       "    .dataframe thead th {\n",
       "        text-align: right;\n",
       "    }\n",
       "</style>\n",
       "<table border=\"1\" class=\"dataframe\">\n",
       "  <thead>\n",
       "    <tr style=\"text-align: right;\">\n",
       "      <th></th>\n",
       "      <th>age</th>\n",
       "      <th>sex</th>\n",
       "      <th>cp</th>\n",
       "      <th>trestbps</th>\n",
       "      <th>chol</th>\n",
       "      <th>fbs</th>\n",
       "      <th>restecg</th>\n",
       "      <th>thalach</th>\n",
       "      <th>exang</th>\n",
       "      <th>oldpeak</th>\n",
       "      <th>slope</th>\n",
       "      <th>ca</th>\n",
       "      <th>thal</th>\n",
       "      <th>target</th>\n",
       "    </tr>\n",
       "  </thead>\n",
       "  <tbody>\n",
       "    <tr>\n",
       "      <th>0</th>\n",
       "      <td>63</td>\n",
       "      <td>1</td>\n",
       "      <td>0</td>\n",
       "      <td>145</td>\n",
       "      <td>233</td>\n",
       "      <td>1</td>\n",
       "      <td>2</td>\n",
       "      <td>150</td>\n",
       "      <td>0</td>\n",
       "      <td>2.3</td>\n",
       "      <td>2</td>\n",
       "      <td>0</td>\n",
       "      <td>2</td>\n",
       "      <td>0</td>\n",
       "    </tr>\n",
       "    <tr>\n",
       "      <th>1</th>\n",
       "      <td>67</td>\n",
       "      <td>1</td>\n",
       "      <td>3</td>\n",
       "      <td>160</td>\n",
       "      <td>286</td>\n",
       "      <td>0</td>\n",
       "      <td>2</td>\n",
       "      <td>108</td>\n",
       "      <td>1</td>\n",
       "      <td>1.5</td>\n",
       "      <td>1</td>\n",
       "      <td>3</td>\n",
       "      <td>1</td>\n",
       "      <td>1</td>\n",
       "    </tr>\n",
       "    <tr>\n",
       "      <th>2</th>\n",
       "      <td>67</td>\n",
       "      <td>1</td>\n",
       "      <td>3</td>\n",
       "      <td>120</td>\n",
       "      <td>229</td>\n",
       "      <td>0</td>\n",
       "      <td>2</td>\n",
       "      <td>129</td>\n",
       "      <td>1</td>\n",
       "      <td>2.6</td>\n",
       "      <td>1</td>\n",
       "      <td>2</td>\n",
       "      <td>3</td>\n",
       "      <td>1</td>\n",
       "    </tr>\n",
       "    <tr>\n",
       "      <th>3</th>\n",
       "      <td>37</td>\n",
       "      <td>1</td>\n",
       "      <td>2</td>\n",
       "      <td>130</td>\n",
       "      <td>250</td>\n",
       "      <td>0</td>\n",
       "      <td>0</td>\n",
       "      <td>187</td>\n",
       "      <td>0</td>\n",
       "      <td>3.5</td>\n",
       "      <td>2</td>\n",
       "      <td>0</td>\n",
       "      <td>1</td>\n",
       "      <td>0</td>\n",
       "    </tr>\n",
       "    <tr>\n",
       "      <th>4</th>\n",
       "      <td>41</td>\n",
       "      <td>0</td>\n",
       "      <td>1</td>\n",
       "      <td>130</td>\n",
       "      <td>204</td>\n",
       "      <td>0</td>\n",
       "      <td>2</td>\n",
       "      <td>172</td>\n",
       "      <td>0</td>\n",
       "      <td>1.4</td>\n",
       "      <td>0</td>\n",
       "      <td>0</td>\n",
       "      <td>1</td>\n",
       "      <td>0</td>\n",
       "    </tr>\n",
       "  </tbody>\n",
       "</table>\n",
       "</div>"
      ],
      "text/plain": [
       "   age  sex  cp  trestbps  chol  fbs  restecg  thalach  exang  oldpeak  slope  \\\n",
       "0   63    1   0       145   233    1        2      150      0      2.3      2   \n",
       "1   67    1   3       160   286    0        2      108      1      1.5      1   \n",
       "2   67    1   3       120   229    0        2      129      1      2.6      1   \n",
       "3   37    1   2       130   250    0        0      187      0      3.5      2   \n",
       "4   41    0   1       130   204    0        2      172      0      1.4      0   \n",
       "\n",
       "   ca  thal  target  \n",
       "0   0     2       0  \n",
       "1   3     1       1  \n",
       "2   2     3       1  \n",
       "3   0     1       0  \n",
       "4   0     1       0  "
      ]
     },
     "execution_count": 2,
     "metadata": {},
     "output_type": "execute_result"
    }
   ],
   "source": [
    "#Reading dataset(processed_cleveland.csv)\n",
    "df=pd.read_csv('/kaggle/input/heart-diseases/Heart_disease_cleveland_extended.csv')\n",
    "#printing starting instances of data set\n",
    "df.head()\n"
   ]
  },
  {
   "cell_type": "code",
   "execution_count": 3,
   "id": "4fc7215f",
   "metadata": {
    "execution": {
     "iopub.execute_input": "2025-02-06T19:29:26.558844Z",
     "iopub.status.busy": "2025-02-06T19:29:26.558496Z",
     "iopub.status.idle": "2025-02-06T19:29:26.572279Z",
     "shell.execute_reply": "2025-02-06T19:29:26.571062Z"
    },
    "id": "QgWQ3QXmar3c",
    "outputId": "4838adf6-846d-48c4-d2a7-f8107821ea8d",
    "papermill": {
     "duration": 0.020547,
     "end_time": "2025-02-06T19:29:26.573856",
     "exception": false,
     "start_time": "2025-02-06T19:29:26.553309",
     "status": "completed"
    },
    "tags": []
   },
   "outputs": [
    {
     "name": "stdout",
     "output_type": "stream",
     "text": [
      "target\n",
      "0    175\n",
      "1    148\n",
      "Name: count, dtype: int64\n"
     ]
    }
   ],
   "source": [
    "df['target'] = df['target'].apply(lambda x: 1 if x > 0 else 0)\n",
    "print(df['target'].value_counts())"
   ]
  },
  {
   "cell_type": "code",
   "execution_count": 4,
   "id": "550590c6",
   "metadata": {
    "execution": {
     "iopub.execute_input": "2025-02-06T19:29:26.583381Z",
     "iopub.status.busy": "2025-02-06T19:29:26.583009Z",
     "iopub.status.idle": "2025-02-06T19:29:26.854135Z",
     "shell.execute_reply": "2025-02-06T19:29:26.853101Z"
    },
    "id": "anq974NOX7Zi",
    "outputId": "4f99c47a-536c-4590-e716-48b839cd2a7b",
    "papermill": {
     "duration": 0.277748,
     "end_time": "2025-02-06T19:29:26.855828",
     "exception": false,
     "start_time": "2025-02-06T19:29:26.578080",
     "status": "completed"
    },
    "tags": []
   },
   "outputs": [
    {
     "data": {
      "text/plain": [
       "<Axes: xlabel='sex', ylabel='count'>"
      ]
     },
     "execution_count": 4,
     "metadata": {},
     "output_type": "execute_result"
    },
    {
     "data": {
      "image/png": "[encoded data removed]",
      "text/plain": [
       "<Figure size 640x480 with 1 Axes>"
      ]
     },
     "metadata": {},
     "output_type": "display_data"
    }
   ],
   "source": [
    "#visualizing how many persons have heartdisease based on gender using heartdisease dataset\n",
    "sns.countplot(x='sex',hue='target',data=df)\n"
   ]
  },
  {
   "cell_type": "code",
   "execution_count": 5,
   "id": "b4f09c77",
   "metadata": {
    "execution": {
     "iopub.execute_input": "2025-02-06T19:29:26.866297Z",
     "iopub.status.busy": "2025-02-06T19:29:26.865934Z",
     "iopub.status.idle": "2025-02-06T19:29:27.059834Z",
     "shell.execute_reply": "2025-02-06T19:29:27.058691Z"
    },
    "id": "6gjB4qTGa7IO",
    "outputId": "28992336-29bc-449a-c80c-1a08654cfa44",
    "papermill": {
     "duration": 0.200966,
     "end_time": "2025-02-06T19:29:27.061466",
     "exception": false,
     "start_time": "2025-02-06T19:29:26.860500",
     "status": "completed"
    },
    "tags": []
   },
   "outputs": [
    {
     "data": {
      "text/plain": [
       "<Axes: xlabel='cp', ylabel='count'>"
      ]
     },
     "execution_count": 5,
     "metadata": {},
     "output_type": "execute_result"
    },
    {
     "data": {
      "image/png": "[encoded data removed]",
      "text/plain": [
       "<Figure size 640x480 with 1 Axes>"
      ]
     },
     "metadata": {},
     "output_type": "display_data"
    }
   ],
   "source": [
    "#visualizing how many persons have heart disease based on type of chest pain\n",
    "sns.countplot(x='cp',hue='target',data=df)"
   ]
  },
  {
   "cell_type": "code",
   "execution_count": 6,
   "id": "a10cf47e",
   "metadata": {
    "execution": {
     "iopub.execute_input": "2025-02-06T19:29:27.072357Z",
     "iopub.status.busy": "2025-02-06T19:29:27.072037Z",
     "iopub.status.idle": "2025-02-06T19:29:27.080185Z",
     "shell.execute_reply": "2025-02-06T19:29:27.079239Z"
    },
    "id": "Dh2NTR7YX7dW",
    "outputId": "769a5fd5-eda1-4401-f6dd-a7cbe114047c",
    "papermill": {
     "duration": 0.015435,
     "end_time": "2025-02-06T19:29:27.081809",
     "exception": false,
     "start_time": "2025-02-06T19:29:27.066374",
     "status": "completed"
    },
    "tags": []
   },
   "outputs": [
    {
     "data": {
      "text/plain": [
       "((323, 5), (323,))"
      ]
     },
     "execution_count": 6,
     "metadata": {},
     "output_type": "execute_result"
    }
   ],
   "source": [
    "\n",
    "#preprocessing data i.e. finding null values;\n",
    "df.isna().sum()\n",
    "#if we have null values we drop them using following command\n",
    "#df.dropna()\n",
    "\n",
    "x=df[['age','sex','trestbps','chol','cp']]\n",
    "y=df['target']\n",
    "x.shape,y.shape\n"
   ]
  },
  {
   "cell_type": "code",
   "execution_count": 7,
   "id": "46fc32cb",
   "metadata": {
    "execution": {
     "iopub.execute_input": "2025-02-06T19:29:27.093085Z",
     "iopub.status.busy": "2025-02-06T19:29:27.092746Z",
     "iopub.status.idle": "2025-02-06T19:29:27.381696Z",
     "shell.execute_reply": "2025-02-06T19:29:27.380738Z"
    },
    "id": "MZBuelSrX7gv",
    "papermill": {
     "duration": 0.296646,
     "end_time": "2025-02-06T19:29:27.383628",
     "exception": false,
     "start_time": "2025-02-06T19:29:27.086982",
     "status": "completed"
    },
    "tags": []
   },
   "outputs": [],
   "source": [
    "# spliting data for trainig and testing\n",
    "from sklearn.model_selection import train_test_split\n",
    "X_train,X_test,y_train,y_test=train_test_split(x,y,test_size=0.3, random_state=0)\n"
   ]
  },
  {
   "cell_type": "code",
   "execution_count": 8,
   "id": "16736f11",
   "metadata": {
    "execution": {
     "iopub.execute_input": "2025-02-06T19:29:27.394639Z",
     "iopub.status.busy": "2025-02-06T19:29:27.394266Z",
     "iopub.status.idle": "2025-02-06T19:29:27.522561Z",
     "shell.execute_reply": "2025-02-06T19:29:27.521457Z"
    },
    "id": "TzC5XhLeYTl8",
    "outputId": "4723bef0-3e6d-4219-f0a0-7a3de62f97f9",
    "papermill": {
     "duration": 0.135963,
     "end_time": "2025-02-06T19:29:27.524597",
     "exception": false,
     "start_time": "2025-02-06T19:29:27.388634",
     "status": "completed"
    },
    "tags": []
   },
   "outputs": [
    {
     "data": {
      "text/plain": [
       "0.7422680412371134"
      ]
     },
     "execution_count": 8,
     "metadata": {},
     "output_type": "execute_result"
    }
   ],
   "source": [
    "#training the data and predicting accuracy using logistic regression\n",
    "from sklearn.linear_model import LogisticRegression\n",
    "logreg =LogisticRegression(class_weight='balanced')\n",
    "sd=logreg.fit(X_train,y_train)\n",
    "sd.score(X_train,y_train)\n",
    "#a = sd.predict(X_test)\n",
    "#d_log = pd.DataFrame(data=a)\n",
    "#d_log.rename(index=str, columns={0:\"y_log\"})\n",
    "logreg.score(X_test,y_test)\n"
   ]
  },
  {
   "cell_type": "code",
   "execution_count": 9,
   "id": "36f7cf26",
   "metadata": {
    "execution": {
     "iopub.execute_input": "2025-02-06T19:29:27.537130Z",
     "iopub.status.busy": "2025-02-06T19:29:27.536768Z",
     "iopub.status.idle": "2025-02-06T19:29:27.547308Z",
     "shell.execute_reply": "2025-02-06T19:29:27.546115Z"
    },
    "id": "iP1N-ip_cd-t",
    "outputId": "a9fd1ad3-2073-49b3-bb61-32c4b7127fa6",
    "papermill": {
     "duration": 0.018669,
     "end_time": "2025-02-06T19:29:27.548865",
     "exception": false,
     "start_time": "2025-02-06T19:29:27.530196",
     "status": "completed"
    },
    "tags": []
   },
   "outputs": [
    {
     "name": "stdout",
     "output_type": "stream",
     "text": [
      "Logistic Regression Training Accuracy: 0.7433628318584071\n",
      "Logistic Regression Test Accuracy: 0.7422680412371134\n"
     ]
    }
   ],
   "source": [
    "train_accuracy_logreg = logreg.score(X_train, y_train)\n",
    "test_accuracy_logreg = logreg.score(X_test, y_test)\n",
    "\n",
    "print(\"Logistic Regression Training Accuracy:\", train_accuracy_logreg)\n",
    "print(\"Logistic Regression Test Accuracy:\", test_accuracy_logreg)\n"
   ]
  },
  {
   "cell_type": "code",
   "execution_count": 10,
   "id": "7f87b449",
   "metadata": {
    "execution": {
     "iopub.execute_input": "2025-02-06T19:29:27.560500Z",
     "iopub.status.busy": "2025-02-06T19:29:27.560122Z",
     "iopub.status.idle": "2025-02-06T19:29:27.567003Z",
     "shell.execute_reply": "2025-02-06T19:29:27.565884Z"
    },
    "id": "ywkeoERSYTt_",
    "outputId": "8042692c-932f-45fe-9279-4354af6898e3",
    "papermill": {
     "duration": 0.014417,
     "end_time": "2025-02-06T19:29:27.568491",
     "exception": false,
     "start_time": "2025-02-06T19:29:27.554074",
     "status": "completed"
    },
    "tags": []
   },
   "outputs": [
    {
     "data": {
      "text/plain": [
       "(1, 5)"
      ]
     },
     "execution_count": 10,
     "metadata": {},
     "output_type": "execute_result"
    }
   ],
   "source": [
    "#testing against new samples\n",
    "a=np.array([63,1,3,145,233])\n",
    "b=a.reshape(1,5)\n",
    "df=pd.DataFrame(b)\n",
    "df. shape\n"
   ]
  },
  {
   "cell_type": "code",
   "execution_count": 11,
   "id": "9e03e9e7",
   "metadata": {
    "execution": {
     "iopub.execute_input": "2025-02-06T19:29:27.580619Z",
     "iopub.status.busy": "2025-02-06T19:29:27.580240Z",
     "iopub.status.idle": "2025-02-06T19:29:27.590099Z",
     "shell.execute_reply": "2025-02-06T19:29:27.589038Z"
    },
    "id": "sJoXZmsNbMgv",
    "outputId": "ac24f0b8-49a8-4e72-e9c9-b828d57f7103",
    "papermill": {
     "duration": 0.017751,
     "end_time": "2025-02-06T19:29:27.591712",
     "exception": false,
     "start_time": "2025-02-06T19:29:27.573961",
     "status": "completed"
    },
    "tags": []
   },
   "outputs": [
    {
     "name": "stderr",
     "output_type": "stream",
     "text": [
      "/usr/local/lib/python3.10/dist-packages/sklearn/base.py:439: UserWarning: X does not have valid feature names, but LogisticRegression was fitted with feature names\n",
      "  warnings.warn(\n"
     ]
    },
    {
     "data": {
      "text/plain": [
       "array([1])"
      ]
     },
     "execution_count": 11,
     "metadata": {},
     "output_type": "execute_result"
    }
   ],
   "source": [
    "#predicting whether a person have heart disease or not against new sample\n",
    "sd.predict(df)\n"
   ]
  },
  {
   "cell_type": "code",
   "execution_count": 12,
   "id": "68f353b6",
   "metadata": {
    "execution": {
     "iopub.execute_input": "2025-02-06T19:29:27.603816Z",
     "iopub.status.busy": "2025-02-06T19:29:27.603451Z",
     "iopub.status.idle": "2025-02-06T19:29:28.225150Z",
     "shell.execute_reply": "2025-02-06T19:29:28.223764Z"
    },
    "id": "REE_iXnDcEl8",
    "outputId": "25d2845a-d1bf-43db-8e87-a7be4c07fc00",
    "papermill": {
     "duration": 0.629819,
     "end_time": "2025-02-06T19:29:28.227036",
     "exception": false,
     "start_time": "2025-02-06T19:29:27.597217",
     "status": "completed"
    },
    "tags": []
   },
   "outputs": [
    {
     "name": "stdout",
     "output_type": "stream",
     "text": [
      "Training Accuracy: 1.0\n",
      "Test Accuracy: 0.6701030927835051\n"
     ]
    }
   ],
   "source": [
    "from sklearn.ensemble import RandomForestClassifier\n",
    "\n",
    "\n",
    "from sklearn.ensemble import RandomForestClassifier\n",
    "rf = RandomForestClassifier().fit(X_train,y_train)\n",
    "\n",
    "\n",
    "rf.fit(X_train, y_train)\n",
    "train_accuracy = rf.score(X_train, y_train)\n",
    "test_accuracy = rf.score(X_test, y_test)\n",
    "\n",
    "print(\"Training Accuracy:\", train_accuracy)\n",
    "print(\"Test Accuracy:\", test_accuracy)\n"
   ]
  },
  {
   "cell_type": "markdown",
   "id": "de109a67",
   "metadata": {
    "id": "izXjS055qC_v",
    "papermill": {
     "duration": 0.005962,
     "end_time": "2025-02-06T19:29:28.240297",
     "exception": false,
     "start_time": "2025-02-06T19:29:28.234335",
     "status": "completed"
    },
    "tags": []
   },
   "source": []
  },
  {
   "cell_type": "code",
   "execution_count": 13,
   "id": "9e858d12",
   "metadata": {
    "execution": {
     "iopub.execute_input": "2025-02-06T19:29:28.253679Z",
     "iopub.status.busy": "2025-02-06T19:29:28.253299Z",
     "iopub.status.idle": "2025-02-06T19:29:29.198736Z",
     "shell.execute_reply": "2025-02-06T19:29:29.197627Z"
    },
    "id": "3ULq8GKFp_pq",
    "outputId": "516226cd-c8a6-436f-c2fb-e985a2af7dff",
    "papermill": {
     "duration": 0.954659,
     "end_time": "2025-02-06T19:29:29.200485",
     "exception": false,
     "start_time": "2025-02-06T19:29:28.245826",
     "status": "completed"
    },
    "tags": []
   },
   "outputs": [
    {
     "name": "stdout",
     "output_type": "stream",
     "text": [
      "Logistic Regression CV Accuracy: 0.7165217391304347\n",
      "Random Forest CV Accuracy: 0.7612560386473429\n"
     ]
    }
   ],
   "source": [
    "from sklearn.model_selection import cross_val_score\n",
    "\n",
    "logreg_cv = cross_val_score(logreg, X_train, y_train, cv=5, scoring='accuracy')\n",
    "rf_cv = cross_val_score(rf, X_train, y_train, cv=5, scoring='accuracy')\n",
    "\n",
    "print(\"Logistic Regression CV Accuracy:\", logreg_cv.mean())\n",
    "print(\"Random Forest CV Accuracy:\", rf_cv.mean())\n"
   ]
  },
  {
   "cell_type": "code",
   "execution_count": 14,
   "id": "bc2def5e",
   "metadata": {
    "execution": {
     "iopub.execute_input": "2025-02-06T19:29:29.212851Z",
     "iopub.status.busy": "2025-02-06T19:29:29.212450Z",
     "iopub.status.idle": "2025-02-06T19:29:29.220098Z",
     "shell.execute_reply": "2025-02-06T19:29:29.218962Z"
    },
    "id": "iz0MrsmcrAIf",
    "outputId": "eb3f201e-7818-43f3-ada0-364437c27692",
    "papermill": {
     "duration": 0.015874,
     "end_time": "2025-02-06T19:29:29.221925",
     "exception": false,
     "start_time": "2025-02-06T19:29:29.206051",
     "status": "completed"
    },
    "tags": []
   },
   "outputs": [
    {
     "name": "stdout",
     "output_type": "stream",
     "text": [
      "Logistic Regression Prediction (0: No Heart Disease, 1: Heart Disease): 0\n"
     ]
    },
    {
     "name": "stderr",
     "output_type": "stream",
     "text": [
      "/usr/local/lib/python3.10/dist-packages/sklearn/base.py:439: UserWarning: X does not have valid feature names, but LogisticRegression was fitted with feature names\n",
      "  warnings.warn(\n",
      "/usr/local/lib/python3.10/dist-packages/sklearn/base.py:439: UserWarning: X does not have valid feature names, but LogisticRegression was fitted with feature names\n",
      "  warnings.warn(\n"
     ]
    }
   ],
   "source": [
    "import numpy as np\n",
    "\n",
    "# Example new sample: [age, sex, trestbps, chol, cp]\n",
    "sample_data = np.array([45, 1, 130, 233, 1])  # Example input\n",
    "sample_data = sample_data.reshape(1, -1)  # Reshape for prediction\n",
    "\n",
    "# Logistic Regression Prediction\n",
    "logreg_pred = logreg.predict(sample_data)\n",
    "logreg_prob = logreg.predict_proba(sample_data)\n",
    "\n",
    "print(\"Logistic Regression Prediction (0: No Heart Disease, 1: Heart Disease):\", logreg_pred[0])\n",
    "#print(\"Logistic Regression Probabilities [No Heart Disease, Heart Disease]:\", logreg_prob[0])\n",
    "\n"
   ]
  },
  {
   "cell_type": "code",
   "execution_count": 15,
   "id": "93f90651",
   "metadata": {
    "execution": {
     "iopub.execute_input": "2025-02-06T19:29:29.234649Z",
     "iopub.status.busy": "2025-02-06T19:29:29.234253Z",
     "iopub.status.idle": "2025-02-06T19:29:29.252521Z",
     "shell.execute_reply": "2025-02-06T19:29:29.251243Z"
    },
    "id": "1cPBVYpdrG-8",
    "outputId": "4b479259-b22e-44c0-cd64-74b85825af8c",
    "papermill": {
     "duration": 0.026456,
     "end_time": "2025-02-06T19:29:29.254190",
     "exception": false,
     "start_time": "2025-02-06T19:29:29.227734",
     "status": "completed"
    },
    "tags": []
   },
   "outputs": [
    {
     "name": "stdout",
     "output_type": "stream",
     "text": [
      "Random Forest Prediction (0: No Heart Disease, 1: Heart Disease): 0\n"
     ]
    },
    {
     "name": "stderr",
     "output_type": "stream",
     "text": [
      "/usr/local/lib/python3.10/dist-packages/sklearn/base.py:439: UserWarning: X does not have valid feature names, but RandomForestClassifier was fitted with feature names\n",
      "  warnings.warn(\n",
      "/usr/local/lib/python3.10/dist-packages/sklearn/base.py:439: UserWarning: X does not have valid feature names, but RandomForestClassifier was fitted with feature names\n",
      "  warnings.warn(\n"
     ]
    }
   ],
   "source": [
    "# Random Forest Prediction\n",
    "rf_pred = rf.predict(sample_data)\n",
    "rf_prob = rf.predict_proba(sample_data)\n",
    "\n",
    "print(\"Random Forest Prediction (0: No Heart Disease, 1: Heart Disease):\", rf_pred[0])\n",
    "#print(\"Random Forest Probabilities [No Heart Disease, Heart Disease]:\", rf_prob[0])\n"
   ]
  }
 ],
 "metadata": {
  "colab": {
   "provenance": []
  },
  "kaggle": {
   "accelerator": "none",
   "dataSources": [
    {
     "datasetId": 6617529,
     "sourceId": 10681872,
     "sourceType": "datasetVersion"
    }
   ],
   "dockerImageVersionId": 30839,
   "isGpuEnabled": false,
   "isInternetEnabled": true,
   "language": "python",
   "sourceType": "notebook"
  },
  "kernelspec": {
   "display_name": "Python 3",
   "language": "python",
   "name": "python3"
  },
  "language_info": {
   "codemirror_mode": {
    "name": "ipython",
    "version": 3
   },
   "file_extension": ".py",
   "mimetype": "text/x-python",
   "name": "python",
   "nbconvert_exporter": "python",
   "pygments_lexer": "ipython3",
   "version": "3.10.12"
  },
  "papermill": {
   "default_parameters": {},
   "duration": 8.966713,
   "end_time": "2025-02-06T19:29:29.980509",
   "environment_variables": {},
   "exception": null,
   "input_path": "__notebook__.ipynb",
   "output_path": "__notebook__.ipynb",
   "parameters": {},
   "start_time": "2025-02-06T19:29:21.013796",
   "version": "2.6.0"
  }
 },
 "nbformat": 4,
 "nbformat_minor": 5
}
